{
 "cells": [
  {
   "cell_type": "code",
   "execution_count": 24,
   "id": "aaae1701",
   "metadata": {},
   "outputs": [],
   "source": [
    "#Testing our create animal route \n",
    "#send a post request\n",
    "\n",
    "import requests as r\n"
   ]
  },
  {
   "cell_type": "code",
   "execution_count": 25,
   "id": "364994f1",
   "metadata": {},
   "outputs": [
    {
     "name": "stdout",
     "output_type": "stream",
     "text": [
      "<Response [400]>\n"
     ]
    }
   ],
   "source": [
    "#what is a POST request? We're make a request to a web server where we want to send them some data\n",
    "    #there are different common data formats used when sending POST requests\n",
    "    #most commonly JSON and xml\n",
    "    #we'll be looking at sending JSON data\n",
    "\n",
    "#Every API request doesn't just contain a url\n",
    "    #the API request has headers and a body as well\n",
    "    #headers specify how the API request is being made as well as any Authorization/Authentification processes being used\n",
    "        #i.e tokens, OAuth, etc.\n",
    "    #body contains data being sent to the API\n",
    "        #(present is a POST, PUT, OR DELETE request, probably not present in a GET request)\n",
    "\n",
    "body ={'name': 'Ocelot',\n",
    "       'sci_name': 'Leopardus pardalis',\n",
    "       'description': 'A medium-sized spotted wild cat. Babou the Ocelot was the pet of Salvador Dali',\n",
    "       'price': 5599.99,\n",
    "       'image': 'https://anotherimg-dazedgroup.netdna-ssl.com/600/azure/another-prod/250/3/253620.jpg',\n",
    "       'size': '45cm',\n",
    "       'weight': 12,\n",
    "       'diet': 'Small terrestrial animals such as armadillos opossums, and lagomorphs.',\n",
    "       'habitat': 'Southwester United States, Mexico, Central and South America, Trinidad, and Margarita',\n",
    "       'lifespan': 20\n",
    "      }\n",
    "       \n",
    "data = r.post('http://127.0.0.1:5000/api/create/animal', json=body)\n",
    "print(data)\n"
   ]
  },
  {
   "cell_type": "code",
   "execution_count": 23,
   "id": "686c8336",
   "metadata": {},
   "outputs": [
    {
     "data": {
      "text/plain": [
       "{'Create Animal Rejected': 'Animal already exists or improper request.'}"
      ]
     },
     "execution_count": 23,
     "metadata": {},
     "output_type": "execute_result"
    }
   ],
   "source": [
    "data.json()"
   ]
  },
  {
   "cell_type": "code",
   "execution_count": 26,
   "id": "5bb397fb",
   "metadata": {},
   "outputs": [
    {
     "data": {
      "text/plain": [
       "200"
      ]
     },
     "execution_count": 26,
     "metadata": {},
     "output_type": "execute_result"
    }
   ],
   "source": [
    "r.get('http://127.0.0.1:5000/api/animals',).status_code\n"
   ]
  },
  {
   "cell_type": "code",
   "execution_count": 28,
   "id": "a1a09a12",
   "metadata": {},
   "outputs": [
    {
     "data": {
      "text/plain": [
       "{'Animals': [{'diet': None,\n",
       "   'habitat': 'Desserts of Northern Africa',\n",
       "   'id': 'fbef2ff7-5b35-451e-9c58-5b0ea3958cde',\n",
       "   'image': None,\n",
       "   'lifespan': None,\n",
       "   'name': 'Fennec Fox',\n",
       "   'price': 3000.0,\n",
       "   'sci_name': 'Vulpes Zerda',\n",
       "   'size': None,\n",
       "   'weight': 3},\n",
       "  {'diet': 'Small terrestrial animals such as armadillos opossums, and lagomorphs.',\n",
       "   'habitat': 'Southwester United States, Mexico, Central and South America, Trinidad, and Margarita',\n",
       "   'id': '6d5a79a0-5cb1-4e36-8862-1f11f4c56ca1',\n",
       "   'image': 'https://anotherimg-dazedgroup.netdna-ssl.com/600/azure/another-prod/250/3/253620.jpg',\n",
       "   'lifespan': 20,\n",
       "   'name': 'Ocelot',\n",
       "   'price': 5599.99,\n",
       "   'sci_name': 'Leopardus Pardalis',\n",
       "   'size': '45cm',\n",
       "   'weight': 12}]}"
      ]
     },
     "execution_count": 28,
     "metadata": {},
     "output_type": "execute_result"
    }
   ],
   "source": [
    "r.get('http://127.0.0.1:5000/api/animals',).json()\n"
   ]
  },
  {
   "cell_type": "code",
   "execution_count": 19,
   "id": "e1a8b634",
   "metadata": {},
   "outputs": [
    {
     "name": "stdout",
     "output_type": "stream",
     "text": [
      "<Response [200]>\n"
     ]
    }
   ],
   "source": [
    "body = {'name': 'It The Movie',\n",
    "        'category': 'Horror',\n",
    "        'price': 14.99,\n",
    "        'image':'https://i.ibb.co/Dr0R8Wb/horror-villans-american-main-2021x-1253571.webp',\n",
    "        'rating': '86% rotten tomatoes',\n",
    "        'box_office': 701000800.00,\n",
    "        'director': 'Andy Muschietti'\n",
    "       }\n",
    "\n",
    "data = r.post('http://127.0.0.1:5000/api/create/movie', json=body)\n",
    "print(data)"
   ]
  },
  {
   "cell_type": "code",
   "execution_count": 20,
   "id": "f2b813cf",
   "metadata": {},
   "outputs": [
    {
     "data": {
      "text/plain": [
       "{'Created New Movie': {'box_office': 701000800,\n",
       "  'category': 'Horror',\n",
       "  'director': 'Andy Muschietti',\n",
       "  'id': '945190ed-42bd-4baf-be92-1a412b952bb1',\n",
       "  'image': 'https://i.ibb.co/Dr0R8Wb/horror-villans-american-main-2021x-1253571.webp',\n",
       "  'name': 'It The Movie',\n",
       "  'price': 14.99,\n",
       "  'rating': '86% rotten tomatoes'}}"
      ]
     },
     "execution_count": 20,
     "metadata": {},
     "output_type": "execute_result"
    }
   ],
   "source": [
    "data.json()"
   ]
  },
  {
   "cell_type": "code",
   "execution_count": 27,
   "id": "b9c37521",
   "metadata": {},
   "outputs": [
    {
     "data": {
      "text/plain": [
       "200"
      ]
     },
     "execution_count": 27,
     "metadata": {},
     "output_type": "execute_result"
    }
   ],
   "source": [
    "r.get('http://127.0.0.1:5000/api/movies',).status_code"
   ]
  },
  {
   "cell_type": "code",
   "execution_count": 29,
   "id": "85cccb32",
   "metadata": {},
   "outputs": [
    {
     "data": {
      "text/plain": [
       "{'Movies': [{'box_office': None,\n",
       "   'category': 'Horror',\n",
       "   'director': 'Nia Decosta',\n",
       "   'id': '1341480f-b9c1-455e-a2fd-2bd090abf667',\n",
       "   'image': None,\n",
       "   'name': 'Candy Man',\n",
       "   'price': 14.96,\n",
       "   'rating': None},\n",
       "  {'box_office': 701000800,\n",
       "   'category': 'Horror',\n",
       "   'director': 'Andy Muschietti',\n",
       "   'id': '945190ed-42bd-4baf-be92-1a412b952bb1',\n",
       "   'image': 'https://i.ibb.co/Dr0R8Wb/horror-villans-american-main-2021x-1253571.webp',\n",
       "   'name': 'It The Movie',\n",
       "   'price': 14.99,\n",
       "   'rating': '86% rotten tomatoes'}]}"
      ]
     },
     "execution_count": 29,
     "metadata": {},
     "output_type": "execute_result"
    }
   ],
   "source": [
    "r.get('http://127.0.0.1:5000/api/movies',).json()"
   ]
  },
  {
   "cell_type": "code",
   "execution_count": null,
   "id": "2eab6a83",
   "metadata": {},
   "outputs": [],
   "source": []
  }
 ],
 "metadata": {
  "kernelspec": {
   "display_name": "Python 3 (ipykernel)",
   "language": "python",
   "name": "python3"
  },
  "language_info": {
   "codemirror_mode": {
    "name": "ipython",
    "version": 3
   },
   "file_extension": ".py",
   "mimetype": "text/x-python",
   "name": "python",
   "nbconvert_exporter": "python",
   "pygments_lexer": "ipython3",
   "version": "3.9.7"
  }
 },
 "nbformat": 4,
 "nbformat_minor": 5
}
