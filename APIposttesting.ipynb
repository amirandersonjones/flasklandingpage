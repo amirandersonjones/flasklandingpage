{
 "cells": [
  {
   "cell_type": "code",
   "execution_count": null,
   "id": "aaae1701",
   "metadata": {},
   "outputs": [],
   "source": [
    "#Testing our create animal route \n",
    "#send a post request\n",
    "\n",
    "import requests as r\n"
   ]
  },
  {
   "cell_type": "code",
   "execution_count": null,
   "id": "364994f1",
   "metadata": {},
   "outputs": [],
   "source": [
    "#what is a POST request? We're make a request to a web server where we want to send them some data\n",
    "    #there are different common data formats used when sending POST requests\n",
    "    #most commonly JSON and xml\n",
    "    #we'll be looking at sending JSON data\n",
    "\n",
    "#Every API request doesn't just contain a url\n",
    "    #the API request has headers and a body as well\n",
    "    #headers specify how the API request is being made as well as any Authorization/Authentification processes being used\n",
    "        #i.e tokens, OAuth, etc.\n",
    "    #body contains data being sent to the API\n",
    "        #(present is a POST, PUT, OR DELETE request, probably not present in a GET request)\n"
   ]
  }
 ],
 "metadata": {
  "kernelspec": {
   "display_name": "Python 3 (ipykernel)",
   "language": "python",
   "name": "python3"
  },
  "language_info": {
   "codemirror_mode": {
    "name": "ipython",
    "version": 3
   },
   "file_extension": ".py",
   "mimetype": "text/x-python",
   "name": "python",
   "nbconvert_exporter": "python",
   "pygments_lexer": "ipython3",
   "version": "3.9.7"
  }
 },
 "nbformat": 4,
 "nbformat_minor": 5
}
